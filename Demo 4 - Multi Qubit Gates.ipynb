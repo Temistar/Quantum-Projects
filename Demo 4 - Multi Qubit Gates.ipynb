{
 "cells": [
  {
   "cell_type": "markdown",
   "id": "cb8ecad2",
   "metadata": {},
   "source": [
    "## Creating Multi Qubit Circuit"
   ]
  },
  {
   "cell_type": "code",
   "execution_count": null,
   "id": "06a0f6d9",
   "metadata": {},
   "outputs": [],
   "source": [
    "import qiskit"
   ]
  },
  {
   "cell_type": "code",
   "execution_count": null,
   "id": "177ab9ac",
   "metadata": {},
   "outputs": [],
   "source": [
    "from qiskit import QuantumRegister, ClassicalRegister, QuantumCircuit"
   ]
  },
  {
   "cell_type": "markdown",
   "id": "2f0aae1f",
   "metadata": {},
   "source": [
    "A quantum circuit is composed of quantum and classical registers."
   ]
  },
  {
   "cell_type": "code",
   "execution_count": null,
   "id": "a83dca70",
   "metadata": {},
   "outputs": [],
   "source": [
    "# Creating a quantum circuit consisting of quantum register qreg and classical register creg\n",
    "circuit = QuantumCircuit(qreg,creg)"
   ]
  },
  {
   "cell_type": "markdown",
   "id": "3a9b6f70",
   "metadata": {},
   "source": [
    "In Qiskit, we use a _quantum register_ to store our qubits.\n",
    "\n",
    "Whenever a qubit is measured, the result should be stored in a classical bit. We create a _classical register_ to store our classical bits."
   ]
  },
  {
   "cell_type": "code",
   "execution_count": null,
   "id": "8d7f25b3",
   "metadata": {},
   "outputs": [],
   "source": [
    "\n",
    "# Creating a quantum circuit with 4 qubits and 4 classical bits\n",
    "circuit = QuantumCircuit(4,4)"
   ]
  },
  {
   "cell_type": "markdown",
   "id": "3fedac7a",
   "metadata": {},
   "source": [
    "## Here are some multi-qubit Gates"
   ]
  },
  {
   "cell_type": "code",
   "execution_count": null,
   "id": "767b7427",
   "metadata": {},
   "outputs": [],
   "source": [
    "#Apply CNOT gate where qubit 2 is control and qubit 0 is target\n",
    "circuit.cx(qreg[2],qreg[0])\n",
    "\n",
    "#Apply CZ gate where qubit 0 is control and qubit 1 is target\n",
    "circuit.cz(qreg[0],qreg[1])\n",
    "\n",
    "#Apply SWAP gates to qubits 1 and 3 \n",
    "circuit.swap(qreg[1],qreg[3])\n",
    "\n",
    "#Apply CCNOT gate where qubit 0 and 1 are the control and qubit 2 is the target\n",
    "#Note that in Qiskit, it is possible to apply gates without specifying the register\n",
    "circuit.ccx(0,1,2)"
   ]
  },
  {
   "cell_type": "markdown",
   "id": "c1e17f4f",
   "metadata": {},
   "source": [
    "Let's Create a circuit that applies a controlled-Z gate between the first and third qubits, and a controlled-X gate between the second and fourth qubits."
   ]
  },
  {
   "cell_type": "code",
   "execution_count": 1,
   "id": "735473bf",
   "metadata": {
    "scrolled": true
   },
   "outputs": [
    {
     "name": "stdout",
     "output_type": "stream",
     "text": [
      "             \n",
      "q_0: ─■──────\n",
      "      │      \n",
      "q_1: ─┼───■──\n",
      "      │   │  \n",
      "q_2: ─■───┼──\n",
      "        ┌─┴─┐\n",
      "q_3: ───┤ X ├\n",
      "        └───┘\n"
     ]
    }
   ],
   "source": [
    "from qiskit import QuantumCircuit, transpile, assemble, Aer, execute\n",
    "\n",
    "# Create a quantum circuit with four qubits\n",
    "qc = QuantumCircuit(4)\n",
    "\n",
    "# Apply a controlled-Z gate between the first and third qubits\n",
    "qc.cz(0, 2) #0 is the control and 2 is the target\n",
    "\n",
    "# Apply a controlled-X gate between the second and fourth qubits\n",
    "qc.cx(1, 3)#1 is the control and 3 is the target\n",
    "\n",
    "# Print the circuit\n",
    "print(qc)\n"
   ]
  },
  {
   "cell_type": "markdown",
   "id": "c6de2961",
   "metadata": {},
   "source": [
    "### Generating a Bell State"
   ]
  },
  {
   "cell_type": "markdown",
   "id": "87e85bca",
   "metadata": {},
   "source": [
    "Consider a two-qubit quantum circuit. Let's implement the following steps using Qiskit to generate a bell state:\n",
    "\n",
    "1. Prepare the initial state |00⟩.\n",
    "2. Apply a Hadamard gate (H gate) to the first qubit.\n",
    "3. Apply a CNOT gate with the first qubit as the control and the second qubit as the target.\n",
    "4. Measure both qubits and obtain the measurement results."
   ]
  },
  {
   "cell_type": "code",
   "execution_count": 2,
   "id": "b813eedd",
   "metadata": {},
   "outputs": [
    {
     "name": "stdout",
     "output_type": "stream",
     "text": [
      "{'00': 486, '11': 514}\n"
     ]
    }
   ],
   "source": [
    "from qiskit import QuantumCircuit, Aer, execute\n",
    "\n",
    "# Create a quantum circuit with two qubits\n",
    "qc = QuantumCircuit(2, 2)\n",
    "\n",
    "# Step 1: Prepare the initial state |00⟩\n",
    "# No operation is needed as the qubits are initially in the |0⟩ state\n",
    "\n",
    "# Step 2: Apply a Hadamard gate to the first qubit\n",
    "qc.h(0)\n",
    "\n",
    "# Step 3: Apply a CNOT gate with the first qubit as the control and the second qubit as the target\n",
    "qc.cx(0, 1)\n",
    "\n",
    "# Step 4: Measure both qubits\n",
    "qc.measure([0, 1], [0, 1])\n",
    "\n",
    "# Simulate the circuit using the Qiskit Aer simulator\n",
    "simulator = Aer.get_backend('qasm_simulator')\n",
    "job = execute(qc, simulator, shots=1000)\n",
    "result = job.result()\n",
    "\n",
    "# Get the counts of the measurement outcomes\n",
    "counts = result.get_counts(qc)\n",
    "print(counts)\n"
   ]
  },
  {
   "cell_type": "markdown",
   "id": "73bc6f20",
   "metadata": {},
   "source": [
    "## Quantum Teleportation Protocol"
   ]
  },
  {
   "cell_type": "markdown",
   "id": "541599d3",
   "metadata": {},
   "source": [
    "We will illustrate quantum teleportation with a story. Alice and Bob during their childhood shared a Bell state |β00⟩, where the first qubit Q1 belongs to Alice and qubit Q2 belongs to Bob. Bob had to relocate to a different city because of work commitments. Now Alice wants to share some information: a third qubit Q0 state ∣ψ⟩ = ∣1⟩ to Bob.\n"
   ]
  },
  {
   "cell_type": "code",
   "execution_count": 15,
   "id": "4013c234",
   "metadata": {},
   "outputs": [],
   "source": [
    "from qiskit import *"
   ]
  },
  {
   "cell_type": "markdown",
   "id": "aa988ab1",
   "metadata": {},
   "source": [
    "We will need 3 qubit where Q1 belongs to Alice, qubit Q2 belongs to Bob and qubit Q0 is the qubit that conatins the new information that Alice wants to send to Bob."
   ]
  },
  {
   "cell_type": "code",
   "execution_count": 16,
   "id": "fca81fe6",
   "metadata": {},
   "outputs": [],
   "source": [
    "circuit = QuantumCircuit(3,3)"
   ]
  },
  {
   "cell_type": "code",
   "execution_count": 17,
   "id": "6064d1a4",
   "metadata": {},
   "outputs": [
    {
     "data": {
      "image/png": "[encoded data removed]",
      "text/plain": [
       "<Figure size 116.697x264.88 with 1 Axes>"
      ]
     },
     "execution_count": 17,
     "metadata": {},
     "output_type": "execute_result"
    }
   ],
   "source": [
    "%matplotlib inline\n",
    "circuit.draw(output ='mpl')"
   ]
  },
  {
   "cell_type": "markdown",
   "id": "7c785c05",
   "metadata": {},
   "source": [
    "Since the information that alice want to send to bob is ∣1⟩, we apply an X gate to convert the sate to ∣1⟩"
   ]
  },
  {
   "cell_type": "code",
   "execution_count": 18,
   "id": "98659c15",
   "metadata": {},
   "outputs": [
    {
     "data": {
      "image/png": "[encoded data removed]",
      "text/plain": [
       "<Figure size 206.997x264.88 with 1 Axes>"
      ]
     },
     "execution_count": 18,
     "metadata": {},
     "output_type": "execute_result"
    }
   ],
   "source": [
    "circuit.x(0)\n",
    "circuit.barrier()\n",
    "circuit.draw(output ='mpl')"
   ]
  },
  {
   "cell_type": "markdown",
   "id": "10e07e2d",
   "metadata": {},
   "source": [
    "Here we create the shared Childhood Bell state between Alice's Q1 and Bob's Q2, this means Q1 and Q2 are enatangled. By applying the Hadamard and CNOT gate we can create a bell state of enatangled Q1 and Q2."
   ]
  },
  {
   "cell_type": "code",
   "execution_count": 19,
   "id": "416a21d6",
   "metadata": {},
   "outputs": [
    {
     "data": {
      "image/png": "[encoded data removed]",
      "text/plain": [
       "<Figure size 387.597x264.88 with 1 Axes>"
      ]
     },
     "execution_count": 19,
     "metadata": {},
     "output_type": "execute_result"
    }
   ],
   "source": [
    "circuit.h(1)\n",
    "circuit.cx(1,2)\n",
    "circuit.barrier()\n",
    "circuit.draw(output ='mpl')"
   ]
  },
  {
   "cell_type": "markdown",
   "id": "884ab64b",
   "metadata": {},
   "source": [
    "Let prepare Alice quantum state by applying a CNOT between her two qubit (Q0 as the control and Q2 as the target) and an hadamard on the qubit she wants to send (Q1). Now Q0 is entangled with the bell pair formed by Q1 and Q2"
   ]
  },
  {
   "cell_type": "code",
   "execution_count": 20,
   "id": "86accd7f",
   "metadata": {
    "scrolled": true
   },
   "outputs": [
    {
     "data": {
      "image/png": "[encoded data removed]",
      "text/plain": [
       "<Figure size 507.997x264.88 with 1 Axes>"
      ]
     },
     "execution_count": 20,
     "metadata": {},
     "output_type": "execute_result"
    }
   ],
   "source": [
    "circuit.cx(0,1)\n",
    "circuit.h(0)\n",
    "circuit.draw(output ='mpl')"
   ]
  },
  {
   "cell_type": "markdown",
   "id": "5175682a",
   "metadata": {},
   "source": [
    "We proceed with performing measurements on Alice quantum state (Q0) and the Bell pair (Q1), and sending the measurement outcomes to Bob through the classical registers. The measurement performed on the first two qubits destroys the qubits, and the third qubit is delivered to the receiver."
   ]
  },
  {
   "cell_type": "code",
   "execution_count": 21,
   "id": "c1d6be04",
   "metadata": {
    "scrolled": true
   },
   "outputs": [
    {
     "data": {
      "image/png": "[encoded data removed]",
      "text/plain": [
       "<Figure size 688.597x264.88 with 1 Axes>"
      ]
     },
     "execution_count": 21,
     "metadata": {},
     "output_type": "execute_result"
    }
   ],
   "source": [
    "circuit.barrier()\n",
    "circuit.measure([0,1],[0,1])\n",
    "circuit.draw(output ='mpl')"
   ]
  },
  {
   "cell_type": "markdown",
   "id": "51cf40e6",
   "metadata": {},
   "source": [
    "To complete the teleportation protocol, bob then applies a CNOT and a CZ to reconstruct the original quantum state."
   ]
  },
  {
   "cell_type": "code",
   "execution_count": 22,
   "id": "5b8b2e01",
   "metadata": {
    "scrolled": true
   },
   "outputs": [
    {
     "data": {
      "image/png": "[encoded data removed]",
      "text/plain": [
       "<Figure size 869.197x264.88 with 1 Axes>"
      ]
     },
     "execution_count": 22,
     "metadata": {},
     "output_type": "execute_result"
    }
   ],
   "source": [
    "circuit.barrier()\n",
    "circuit.cx(1,2)\n",
    "circuit.cz(0,2)\n",
    "circuit.draw(output ='mpl')"
   ]
  },
  {
   "cell_type": "markdown",
   "id": "ff0fdcd9",
   "metadata": {},
   "source": [
    "To verify let's measure Bob Qubit to see if it has recieved ∣1⟩ send by Alice."
   ]
  },
  {
   "cell_type": "code",
   "execution_count": 26,
   "id": "32225ca9",
   "metadata": {},
   "outputs": [
    {
     "data": {
      "image/png": "[encoded data removed]",
      "text/plain": [
       "<Figure size 504x360 with 1 Axes>"
      ]
     },
     "execution_count": 26,
     "metadata": {},
     "output_type": "execute_result"
    }
   ],
   "source": [
    "circuit.measure(2,2)\n",
    "simulate = Aer.get_backend('qasm_simulator')\n",
    "result = execute(circuit, backend =simulator, shots =1024).result()\n",
    "counts = result.get_counts()\n",
    "from qiskit.tools.visualization import plot_histogram\n",
    "plot_histogram(counts)"
   ]
  },
  {
   "cell_type": "code",
   "execution_count": 27,
   "id": "fbe3cd1b",
   "metadata": {},
   "outputs": [
    {
     "name": "stdout",
     "output_type": "stream",
     "text": [
      "{'111': 233, '100': 270, '101': 232, '110': 289}\n"
     ]
    }
   ],
   "source": [
    "print(counts)"
   ]
  },
  {
   "cell_type": "code",
   "execution_count": null,
   "id": "0e03ecf7",
   "metadata": {},
   "outputs": [],
   "source": [
    "This result shows that for all the possible state the qubit are in state "
   ]
  }
 ],
 "metadata": {
  "kernelspec": {
   "display_name": "tensorflow-m1",
   "language": "python",
   "name": "tensorflow-m1"
  },
  "language_info": {
   "codemirror_mode": {
    "name": "ipython",
    "version": 3
   },
   "file_extension": ".py",
   "mimetype": "text/x-python",
   "name": "python",
   "nbconvert_exporter": "python",
   "pygments_lexer": "ipython3",
   "version": "3.9.0"
  }
 },
 "nbformat": 4,
 "nbformat_minor": 5
}
