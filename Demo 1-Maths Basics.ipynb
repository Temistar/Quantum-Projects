{
 "cells": [
  {
   "cell_type": "markdown",
   "id": "1f15cfd3",
   "metadata": {},
   "source": [
    "<font style=\"font-size:28px;\" align=\"left\"><b>Vectors and Vector Computation</b></font>\n",
    "<br>\n"
   ]
  },
  {
   "cell_type": "markdown",
   "id": "1ac85706",
   "metadata": {},
   "source": [
    "A vector contains a list of numbers.\n",
    "\n",
    "Using linear algebra, the state of a quantum system is described as a vector and is represented by a single column matrix.\n",
    "\n",
    "In python a list or a numpy array can be used to represent a vector \n",
    "\n",
    "A list is a single object in python and a numpy can also be represented as a single object \n",
    "\n",
    "Similarly, a vector is a single mathematical object.\n",
    "\n",
    "The dimension of a vector is the length of the number of values in taht vector"
   ]
  },
  {
   "cell_type": "code",
   "execution_count": 7,
   "id": "22d06d61",
   "metadata": {},
   "outputs": [
    {
     "name": "stdout",
     "output_type": "stream",
     "text": [
      "Vector a is: [2, -3, 9, 4]\n"
     ]
    }
   ],
   "source": [
    "# let's denote a matrix using a list\n",
    "\n",
    "a = [2, -3, 9, 4]\n",
    "\n",
    "print ('Vector a is:', a)\n"
   ]
  },
  {
   "cell_type": "markdown",
   "id": "f1df8726",
   "metadata": {},
   "source": [
    "The Python NumPy module can be used to create a vector. We use numpy.array( ) method to create a one-dimensional array i.e. a vector. The numpy.array( ) method takes a list and then converts to a numpy array. The synatx is numpy.array(list)"
   ]
  },
  {
   "cell_type": "code",
   "execution_count": 6,
   "id": "3a6ee823",
   "metadata": {},
   "outputs": [
    {
     "name": "stdout",
     "output_type": "stream",
     "text": [
      "Vector b is: [ 2 -3  9  4]\n"
     ]
    }
   ],
   "source": [
    "# let's denote a vector using a numpy array\n",
    "\n",
    "import numpy as np\n",
    "\n",
    "b = np.array([2, -3, 9, 4])\n",
    "\n",
    "print ('Vector b is:', b)"
   ]
  },
  {
   "cell_type": "markdown",
   "id": "98b4fdb0",
   "metadata": {},
   "source": [
    "### Vector multiplication (Scalar * Vector)"
   ]
  },
  {
   "cell_type": "code",
   "execution_count": 9,
   "id": "d3aad802",
   "metadata": {},
   "outputs": [
    {
     "name": "stdout",
     "output_type": "stream",
     "text": [
      "3a is [6, -9, 27, 12]\n"
     ]
    }
   ],
   "source": [
    "#using lists\n",
    "\n",
    "a = [2, -3, 9, 4]\n",
    "\n",
    "for i in range(len(a)):\n",
    "    a[i] = 3 * a[i]\n",
    "print(\"3a is\",a)\n",
    "\n",
    "    \n"
   ]
  },
  {
   "cell_type": "code",
   "execution_count": 16,
   "id": "3edac1fb",
   "metadata": {},
   "outputs": [
    {
     "name": "stdout",
     "output_type": "stream",
     "text": [
      "[ 6 -9 27 12]\n"
     ]
    }
   ],
   "source": [
    "# using numpy array\n",
    "\n",
    "b = np.array([2, -3, 9, 4])\n",
    "\n",
    "ans = 3*b\n",
    "\n",
    "print (ans)"
   ]
  },
  {
   "cell_type": "markdown",
   "id": "4c2f96af",
   "metadata": {},
   "source": [
    "### Vector Addition\n",
    "\n",
    "Two vectors can be added if they are of the same dimension"
   ]
  },
  {
   "cell_type": "code",
   "execution_count": 13,
   "id": "2c7fc5d0",
   "metadata": {},
   "outputs": [
    {
     "name": "stdout",
     "output_type": "stream",
     "text": [
      "k+l is [1, 1, 2, 6, 3]\n",
      "\n",
      "the elements of k+l are\n",
      "1\n",
      "1\n",
      "2\n",
      "6\n",
      "3\n"
     ]
    }
   ],
   "source": [
    "# using lists\n",
    "\n",
    "k = [2, -3, 9, 8, 2]\n",
    "\n",
    "l = [-1, 4, -7, -2, 1]\n",
    "\n",
    "new_vector=[]\n",
    "for i in range(len(k)):\n",
    "    new_vector.append(k[i]+l[i])\n",
    "\n",
    "print(\"k+l is\", new_vector)\n",
    "\n",
    "# print the result vector similarly to a column vector\n",
    "print() # print an empty line\n",
    "print(\"the elements of k+l are\")\n",
    "for j in range(len(new_vector)):\n",
    "    print(new_vector[j])\n"
   ]
  },
  {
   "cell_type": "code",
   "execution_count": 18,
   "id": "1c7a4d58",
   "metadata": {
    "scrolled": true
   },
   "outputs": [
    {
     "name": "stdout",
     "output_type": "stream",
     "text": [
      "p+q is [1 1 2 6 3]\n",
      "the elements of p+q are\n",
      "1\n",
      "1\n",
      "2\n",
      "6\n",
      "3\n"
     ]
    }
   ],
   "source": [
    "# using numpy array\n",
    "\n",
    "p = np.array([2, -3, 9, 8, 2])\n",
    "\n",
    "q = np.array([-1, 4, -7, -2, 1])\n",
    "\n",
    "\n",
    "new_vector2 = p + q\n",
    "\n",
    "print(\"p+q is\", new_vector2)\n",
    "\n",
    "print(\"the elements of p+q are\")\n",
    "for i in range(len(new_vector2)):\n",
    "    print(new_vector2[i])\n"
   ]
  },
  {
   "cell_type": "markdown",
   "id": "62c75d4c",
   "metadata": {},
   "source": [
    "<font style=\"font-size:28px;\" align=\"left\"><b>Vectors: Dot (Scalar) Product</b></font>\n",
    "<br>\n",
    "\n",
    "Dot product is a specific way of defining multiplication between two vectors with the same size.\n",
    "\n",
    "It is also called scalar product, because the result is a scalar value, e.g., a real number."
   ]
  },
  {
   "cell_type": "markdown",
   "id": "cfaebce6",
   "metadata": {},
   "source": [
    "#### Using lists"
   ]
  },
  {
   "cell_type": "code",
   "execution_count": 22,
   "id": "ea805e3f",
   "metadata": {},
   "outputs": [
    {
     "name": "stdout",
     "output_type": "stream",
     "text": [
      "pairwise multiplication of the entries with index 0 is 3\n",
      "pairwise multiplication of the entries with index 1 is 2\n",
      "pairwise multiplication of the entries with index 2 is 0\n",
      "pairwise multiplication of the entries with index 3 is 3\n",
      "pairwise multiplication of the entries with index 4 is 20\n",
      "\n",
      "The dot product of [-3, -2, 0, -1, 4] and [-1, -1, 2, -3, 5] is 28\n"
     ]
    }
   ],
   "source": [
    "# let's define both vectors\n",
    "u = [-3,-2,0,-1,4]\n",
    "v = [-1,-1,2,-3,5]\n",
    "\n",
    "uv = 0; # summation is initially zero\n",
    "\n",
    "for i in range(len(u)): # iteratively access every pair with the same indices\n",
    "    print(\"pairwise multiplication of the entries with index\",i,\"is\",u[i]*v[i])\n",
    "    uv = uv + u[i]*v[i] # i-th entries are multiplied and then added to summation\n",
    "    \n",
    "print() # print an empty line    \n",
    "print(\"The dot product of\",u,'and',v,'is',uv)"
   ]
  },
  {
   "cell_type": "markdown",
   "id": "7396bab4",
   "metadata": {},
   "source": [
    "#### Using numpy array"
   ]
  },
  {
   "cell_type": "code",
   "execution_count": 23,
   "id": "09a3b390",
   "metadata": {},
   "outputs": [
    {
     "name": "stdout",
     "output_type": "stream",
     "text": [
      "Vector created from a list u:\n",
      "[-3 -2  0 -1  4]\n",
      "Vector created from a list v:\n",
      "[-1 -1  2 -3  5]\n",
      "Dot product of two vectors:  28\n"
     ]
    }
   ],
   "source": [
    "u = [-3,-2,0,-1,4]\n",
    "v = [-1,-1,2,-3,5]\n",
    "\n",
    "\n",
    "vctr1 = np.array(u) \n",
    "\n",
    "vctr2= np.array(v) \n",
    "\n",
    "\n",
    "print(\"Vector created from a list u:\") \n",
    "print(vctr1) \n",
    "print(\"Vector created from a list v:\") \n",
    "print(vctr2) \n",
    "\n",
    "vctr_dot = vctr1.dot(vctr2)\n",
    "print(\"Dot product of two vectors: \",vctr_dot)"
   ]
  },
  {
   "cell_type": "markdown",
   "id": "27a900de",
   "metadata": {},
   "source": [
    "<h3> Orthogonal (perpendicular) vectors </h3>\n",
    "\n",
    "Two vectors $Vi$  and $Vj$ are said to be orthogonal if they are perpendicular to each other. \n",
    "This means the dot or inner product of the two vector is zero.\n",
    "\n",
    "This also means that the angle between them is $ 90 $ degrees. "
   ]
  },
  {
   "cell_type": "code",
   "execution_count": 24,
   "id": "9ac35ed7",
   "metadata": {},
   "outputs": [
    {
     "name": "stdout",
     "output_type": "stream",
     "text": [
      "the dot product of u and v is 0\n"
     ]
    }
   ],
   "source": [
    "# for example these two vectors u and v are orthogonal\n",
    "v = [-4,3]\n",
    "u = [-3,-4]\n",
    "result = 0;\n",
    "\n",
    "for i in range(2):\n",
    "    result = result + v[i]*u[i]\n",
    "\n",
    "print(\"the dot product of u and v is\",result)"
   ]
  },
  {
   "cell_type": "markdown",
   "id": "bdee3159",
   "metadata": {},
   "source": [
    "<h3> Orthonormal vectors </h3>\n",
    "\n",
    "A set of vectors $V$ is orthonormal if is it orthogonal and normalised.\n",
    "This means every vector in $V$ has a unit magnitude of 1 and the set of vectors are mutually orthogonal\n"
   ]
  },
  {
   "cell_type": "markdown",
   "id": "22becb76",
   "metadata": {},
   "source": [
    "<h3> Tensor product of two vectors </h3>\n",
    "\n",
    "We have two vectors: $ u = \\begin{bmatrix}-2\\\\3\\end{bmatrix}$ and $ v = \\begin{bmatrix}1 \\\\ 2 \\\\ -3\\end{bmatrix}$.\n",
    "\n",
    "The tensor product of $u$ and $ v $ is denoted by $ u \\otimes v $.\n",
    "\n",
    "We may consider the tensor product as extending $ u $ by $ v $:\n",
    "\n",
    "$$\n",
    "    u \\otimes v =  \\begin{bmatrix}-2\\\\3\\end{bmatrix} \\otimes  \\begin{bmatrix}1 \\\\ 2 \\\\ -3\\end{bmatrix}=\n",
    "   \\begin{bmatrix} -2 \\cdot \\begin{bmatrix}1 \\\\ 2 \\\\ -3\\end{bmatrix} \\\\ 3 \\cdot  \\begin{bmatrix}1 \\\\ 2 \\\\ -3\\end{bmatrix} \\end{bmatrix}=\n",
    "   \\begin{bmatrix}  -2 \\\\ -4 \\\\ 6 \\\\ 3 \\\\ 6 \\\\ -9 \\end{bmatrix}.\n",
    "$$\n",
    "\n",
    "Here, $ -2 $ in $ u $ is replaced with the vector $ (-2  v) $, and $ 3 $ in $ u $ is replaced with the vector $ 3 v $.\n",
    "\n",
    "Thus each entry of $ u $ is replaced by a 3-dimensional vector, and the dimension of the result vector is $ 6~(=2 \\cdot 3) $.\n",
    "\n",
    "Algorithmically, each element in $ u $ is replaced by the multiplication of this element with the vector $ v $.\n",
    "\n",
    "Let's find $ v \\otimes u $ in Python."
   ]
  },
  {
   "cell_type": "code",
   "execution_count": 3,
   "id": "23a0e80a",
   "metadata": {},
   "outputs": [
    {
     "name": "stdout",
     "output_type": "stream",
     "text": [
      "v= [1, 2, -3]\n",
      "u= [-2, 3]\n",
      "vu= [-2, 3, -4, 6, 6, -9]\n"
     ]
    }
   ],
   "source": [
    "# vector v\n",
    "v = [1,2,-3]\n",
    "# vector u\n",
    "u=[-2,3]\n",
    "\n",
    "vu = []\n",
    "\n",
    "for i in range(len(v)): # each element of v will be replaced\n",
    "    for j in range(len(u)): # the vector u will come here after multiplying with the entry there\n",
    "        vu.append( v[i] * u[j] )\n",
    "\n",
    "print(\"v=\",v)\n",
    "print(\"u=\",u)\n",
    "print(\"vu=\",vu)"
   ]
  },
  {
   "cell_type": "code",
   "execution_count": null,
   "id": "af07a2f3",
   "metadata": {},
   "outputs": [],
   "source": []
  }
 ],
 "metadata": {
  "kernelspec": {
   "display_name": "Python 3 (ipykernel)",
   "language": "python",
   "name": "python3"
  },
  "language_info": {
   "codemirror_mode": {
    "name": "ipython",
    "version": 3
   },
   "file_extension": ".py",
   "mimetype": "text/x-python",
   "name": "python",
   "nbconvert_exporter": "python",
   "pygments_lexer": "ipython3",
   "version": "3.9.16"
  }
 },
 "nbformat": 4,
 "nbformat_minor": 5
}
