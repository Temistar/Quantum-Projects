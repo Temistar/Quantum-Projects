{
 "cells": [
  {
   "cell_type": "markdown",
   "id": "24154029",
   "metadata": {},
   "source": [
    "# Data Encoding Using qiskit"
   ]
  },
  {
   "cell_type": "markdown",
   "id": "969ebf31",
   "metadata": {},
   "source": [
    "### Basis Encoding"
   ]
  },
  {
   "cell_type": "markdown",
   "id": "bca757e5",
   "metadata": {},
   "source": [
    "Basis encoding is a fundamental concept in quantum computing that involves preparing a quantum state in a specific basis. A basis in quantum computing refers to a set of orthogonal states that can be used to represent and manipulate qubits. The two most common bases used in quantum computing are the computational basis (also known as the Z basis) and the Hadamard basis (also known as the X basis)."
   ]
  },
  {
   "cell_type": "markdown",
   "id": "887548ca",
   "metadata": {},
   "source": [
    "1. Computational Basis (Z Basis) Encoding:\n",
    "To encode a quantum state in the computational basis, you apply a Pauli-Z, Pauli-X, or Pauli-y gate or a phase gate to the qubit. \n",
    "\n",
    "2. Hadamard Basis (X Basis) Encoding:\n",
    "To encode a quantum state in the Hadamard basis, you apply a Hadamard gate to the qubit. "
   ]
  },
  {
   "cell_type": "code",
   "execution_count": 5,
   "id": "38a9210c",
   "metadata": {},
   "outputs": [],
   "source": [
    "import math"
   ]
  },
  {
   "cell_type": "code",
   "execution_count": 11,
   "id": "487acff2",
   "metadata": {
    "scrolled": false
   },
   "outputs": [
    {
     "name": "stdout",
     "output_type": "stream",
     "text": [
      "Z Basis Encoding Circuit:\n",
      "     ┌───┐\n",
      "q_0: ┤ X ├\n",
      "     ├───┤\n",
      "q_1: ┤ X ├\n",
      "     └───┘\n",
      "q_2: ─────\n",
      "     ┌───┐\n",
      "q_3: ┤ X ├\n",
      "     └───┘\n",
      "c: 4/═════\n",
      "          \n",
      "\n",
      "Hadamard Basis Encoding Circuit:\n",
      "     ┌───┐┌───┐\n",
      "q_0: ┤ X ├┤ H ├\n",
      "     ├───┤├───┤\n",
      "q_1: ┤ X ├┤ H ├\n",
      "     ├───┤└───┘\n",
      "q_2: ┤ H ├─────\n",
      "     ├───┤┌───┐\n",
      "q_3: ┤ X ├┤ H ├\n",
      "     └───┘└───┘\n",
      "c: 4/══════════\n",
      "               \n"
     ]
    }
   ],
   "source": [
    "# Import necessary libraries from Qiskit\n",
    "from qiskit import QuantumCircuit, Aer, transpile, assemble\n",
    "from qiskit.visualization import plot_bloch_multivector, plot_histogram, circuit_drawer\n",
    "\n",
    "# Function to encode data into quantum states using Z basis encoding\n",
    "def z_basis_encoding(data):\n",
    "    n_qubits = len(data)\n",
    "    qc = QuantumCircuit(n_qubits, n_qubits)\n",
    "\n",
    "    for i, bit in enumerate(data):\n",
    "        if bit == '1':\n",
    "            qc.x(i)  # Apply X gate to qubits with classical bit value 1\n",
    "\n",
    "    return qc\n",
    "\n",
    "# Function to encode data into quantum states using Hadamard basis encoding\n",
    "def hadamard_basis_encoding(data):\n",
    "    n_qubits = len(data)\n",
    "    qc = QuantumCircuit(n_qubits, n_qubits)\n",
    "\n",
    "    for i, bit in enumerate(data):\n",
    "        if bit == '1':\n",
    "            qc.x(i)  # Apply X gate to qubits with classical bit value 1\n",
    "        qc.h(i)  # Apply Hadamard gate to all qubits\n",
    "\n",
    "    return qc\n",
    "\n",
    "# Sample dataset\n",
    "dataset = \"1101\"\n",
    "\n",
    "# Z basis encoding example\n",
    "z_basis_circuit = z_basis_encoding(dataset)\n",
    "print(\"Z Basis Encoding Circuit:\")\n",
    "print(z_basis_circuit.draw())\n",
    "\n",
    "# Hadamard basis encoding example\n",
    "hadamard_basis_circuit = hadamard_basis_encoding(dataset)\n",
    "print(\"\\nHadamard Basis Encoding Circuit:\")\n",
    "print(hadamard_basis_circuit.draw())\n"
   ]
  },
  {
   "cell_type": "markdown",
   "id": "19d82233",
   "metadata": {},
   "source": [
    "----------------------------------------------------------------------------------------------------------------"
   ]
  },
  {
   "cell_type": "markdown",
   "id": "258ddbd0",
   "metadata": {},
   "source": [
    "### Amplitude Encoding"
   ]
  },
  {
   "cell_type": "markdown",
   "id": "a27851c1",
   "metadata": {},
   "source": [
    "To encode the state\n",
    "$$\n",
    "    |x⟩ =  \\frac1{\\sqrt27.25} [1.5|00⟩+ 0.0|01⟩+0.0|10⟩- 5.0|11⟩]\n",
    "$$\n",
    "$$\n",
    "    |x⟩ =  \\frac1{\\sqrt27.25} [1.5|00⟩- 5.0|11⟩] \n",
    "$$"
   ]
  },
  {
   "cell_type": "code",
   "execution_count": 18,
   "id": "6d61d34d",
   "metadata": {},
   "outputs": [
    {
     "data": {
      "text/html": [
       "<pre style=\"word-wrap: normal;white-space: pre;background: #fff0;line-height: 1.1;font-family: &quot;Courier New&quot;,Courier,monospace\">             ┌─────────┐              ┌───┐┌──────────┐┌──────────┐┌───┐»\n",
       "q_0: ─|0>────┤ Ry(π/2) ├──────────────┤ X ├┤ Ry(-π/2) ├┤ Rz(-π/2) ├┤ X ├»\n",
       "          ┌──┴─────────┴──┐┌─────────┐└─┬─┘└──────────┘└──────────┘└─┬─┘»\n",
       "q_1: ─|0>─┤ R(2.5587,π/2) ├┤ U1(π/2) ├──■────────────────────────────■──»\n",
       "          └───────────────┘└─────────┘                                  »\n",
       "«     ┌─────────┐\n",
       "«q_0: ┤ Rz(π/2) ├\n",
       "«     └─────────┘\n",
       "«q_1: ───────────\n",
       "«                </pre>"
      ],
      "text/plain": [
       "             ┌─────────┐              ┌───┐┌──────────┐┌──────────┐┌───┐»\n",
       "q_0: ─|0>────┤ Ry(π/2) ├──────────────┤ X ├┤ Ry(-π/2) ├┤ Rz(-π/2) ├┤ X ├»\n",
       "          ┌──┴─────────┴──┐┌─────────┐└─┬─┘└──────────┘└──────────┘└─┬─┘»\n",
       "q_1: ─|0>─┤ R(2.5587,π/2) ├┤ U1(π/2) ├──■────────────────────────────■──»\n",
       "          └───────────────┘└─────────┘                                  »\n",
       "«     ┌─────────┐\n",
       "«q_0: ┤ Rz(π/2) ├\n",
       "«     └─────────┘\n",
       "«q_1: ───────────\n",
       "«                "
      ]
     },
     "execution_count": 18,
     "metadata": {},
     "output_type": "execute_result"
    }
   ],
   "source": [
    "desired_state = [\n",
    "    1 / math.sqrt(27.25) * 1.5,\n",
    "    0,\n",
    "    0,\n",
    "    1 / math.sqrt(27.25) * -5] ##Encode the quantum state to the appropraite quantum register\n",
    "    \n",
    "\n",
    "qc = QuantumCircuit(2) \n",
    "qc.initialize(desired_state, [0, 1])\n",
    "\n",
    "qc.decompose().decompose().decompose().decompose().decompose().draw()"
   ]
  },
  {
   "cell_type": "markdown",
   "id": "cae06a81",
   "metadata": {},
   "source": [
    "----------------------------------------------------------------------------------------------------------------"
   ]
  },
  {
   "cell_type": "markdown",
   "id": "4cef2569",
   "metadata": {},
   "source": [
    "### Angle Encoding"
   ]
  },
  {
   "cell_type": "markdown",
   "id": "c5f918d3",
   "metadata": {},
   "source": [
    "To encode\n",
    "$$\n",
    "x =(0, \\frac\\pi{4}, \\frac\\pi{2})\n",
    "$$\n",
    "Note that\n",
    "$$\n",
    "angle  of  RY = 2 * value\n",
    "$$\n",
    "\n",
    "$$\n",
    "number of qubit = number  of  features\n",
    "$$"
   ]
  },
  {
   "cell_type": "code",
   "execution_count": 7,
   "id": "5d5c21d7",
   "metadata": {
    "scrolled": true
   },
   "outputs": [
    {
     "data": {
      "text/html": [
       "<pre style=\"word-wrap: normal;white-space: pre;background: #fff0;line-height: 1.1;font-family: &quot;Courier New&quot;,Courier,monospace\">      ┌───────┐ \n",
       "q_0: ─┤ Ry(0) ├─\n",
       "     ┌┴───────┴┐\n",
       "q_1: ┤ Ry(π/2) ├\n",
       "     └┬───────┬┘\n",
       "q_2: ─┤ Ry(π) ├─\n",
       "      └───────┘ </pre>"
      ],
      "text/plain": [
       "      ┌───────┐ \n",
       "q_0: ─┤ Ry(0) ├─\n",
       "     ┌┴───────┴┐\n",
       "q_1: ┤ Ry(π/2) ├\n",
       "     └┬───────┬┘\n",
       "q_2: ─┤ Ry(π) ├─\n",
       "      └───────┘ "
      ]
     },
     "execution_count": 7,
     "metadata": {},
     "output_type": "execute_result"
    }
   ],
   "source": [
    "qc = QuantumCircuit(3)\n",
    "qc.ry(0, 0)\n",
    "qc.ry(2*math.pi/4, 1)\n",
    "qc.ry(2*math.pi/2, 2)\n",
    "qc.draw()"
   ]
  },
  {
   "cell_type": "markdown",
   "id": "35e36edc",
   "metadata": {},
   "source": [
    "Note that, if data set is given as decimal numbers: \n",
    "$$\n",
    "angle = 2 * np.arcsin(value) \n",
    "$$\n",
    "for example,  to encode \n",
    "$$\n",
    "x = [0.7, -0.2, 0.9, -0.5]\n",
    "$$\n",
    "$$\n",
    "angle for RY = [2 * np.arcsin(0.7), 2 * np.arcsin(-0.2), 2 * np.arcsin(0.9), 2 * np.arcsin(-0.5)]\n",
    "$$"
   ]
  },
  {
   "cell_type": "code",
   "execution_count": 35,
   "id": "6a6d3c6a",
   "metadata": {
    "scrolled": true
   },
   "outputs": [
    {
     "name": "stdout",
     "output_type": "stream",
     "text": [
      "      ┌────────────┐ \n",
      "q_0: ─┤ Rx(1.5508) ├─\n",
      "     ┌┴────────────┴┐\n",
      "q_1: ┤ Rx(-0.40272) ├\n",
      "     └┬────────────┬┘\n",
      "q_2: ─┤ Rx(2.2395) ├─\n",
      "      └┬──────────┬┘ \n",
      "q_3: ──┤ Rx(-π/3) ├──\n",
      "       └──────────┘  \n",
      "Data to Encode: [-0.6, 0.3, 0.1, -0.9]\n",
      "Encoded Quantum State: Statevector([ 0.33098254+0.j        ,  0.        +0.2482369j ,\n",
      "              0.        -0.10408919j,  0.07806689+0.j        ,\n",
      "              0.        -0.033265j  ,  0.02494875+0.j        ,\n",
      "             -0.01046136+0.j        ,  0.        -0.00784602j,\n",
      "              0.        +0.68339342j, -0.51254506+0.j        ,\n",
      "              0.21491729+0.j        ,  0.        +0.16118796j,\n",
      "              0.06868362+0.j        ,  0.        +0.05151272j,\n",
      "              0.        -0.0216j    ,  0.0162    +0.j        ],\n",
      "            dims=(2, 2, 2, 2))\n"
     ]
    }
   ],
   "source": [
    "import numpy as np\n",
    "from qiskit import QuantumCircuit, Aer, execute\n",
    "\n",
    "def angle_encoding_circuit(data):\n",
    "    n_qubits = len(data)\n",
    "    qc = QuantumCircuit(n_qubits)\n",
    "\n",
    "    # Apply the angle encoding gates\n",
    "    for i, value in enumerate(data):\n",
    "        angle = 2 * np.arcsin(value)  # Encode value as angle between -pi/2 and pi/2\n",
    "        qc.rx(angle, i)  # Apply the rotation gate to the qubit\n",
    "\n",
    "    return qc\n",
    "print(encoding_circuit.draw())\n",
    "# Encode the data using angle encoding\n",
    "data_to_encode = [0.7, -0.2, 0.9, -0.5]\n",
    "encoding_circuit = angle_encoding_circuit(data_to_encode)\n",
    "\n",
    "# Simulate the quantum state after the encoding\n",
    "backend = Aer.get_backend('statevector_simulator')\n",
    "result = execute(encoding_circuit, backend).result()\n",
    "statevector = result.get_statevector(encoding_circuit)\n",
    "\n",
    "# Print the results\n",
    "\n",
    "print(\"Data to Encode:\", data_to_encode)\n",
    "print(\"Encoded Quantum State:\",statevector)\n",
    "\n"
   ]
  },
  {
   "cell_type": "markdown",
   "id": "6e5394a8",
   "metadata": {},
   "source": [
    "-------------------------------------------------------------------------------------------------------------"
   ]
  },
  {
   "cell_type": "markdown",
   "id": "db5a8602",
   "metadata": {},
   "source": [
    "# Data Encoding using Pennylane"
   ]
  },
  {
   "cell_type": "markdown",
   "id": "856d0d61",
   "metadata": {},
   "source": [
    "### Basis Embedding"
   ]
  },
  {
   "cell_type": "markdown",
   "id": "616fd58e",
   "metadata": {},
   "source": [
    "In basis embedding, the data has to be in form of a binary string to get embedded. The idea behind basis embedding is using a computational basis. Approximating a scalar value to its binary form and then transforming it to a quantum state.\n",
    "\n",
    "The algorithm involves — The first step is to approximate a number by a binary bit string and the second step is encoding it by a computational basis state. for instance: x=1001 is represented by the 4-qubit quantum state |1001⟩\n"
   ]
  },
  {
   "cell_type": "code",
   "execution_count": 53,
   "id": "7366d6b5",
   "metadata": {},
   "outputs": [],
   "source": [
    "from math import sqrt\n",
    "import pennylane as qml\n",
    "\n",
    "\n",
    "dev = qml.device('default.qubit', wires=3)\n",
    "\n",
    "@qml.qnode(dev)\n",
    "def circuit(feature_vector):\n",
    "    qml.BasisEmbedding(features=feature_vector, wires=range(3))\n",
    "    return qml.state()\n",
    "\n",
    "X = [1,1,1]"
   ]
  },
  {
   "cell_type": "code",
   "execution_count": 54,
   "id": "69254a62",
   "metadata": {
    "scrolled": true
   },
   "outputs": [
    {
     "name": "stdout",
     "output_type": "stream",
     "text": [
      "0: ──X─┤  State\n",
      "1: ──X─┤  State\n",
      "2: ──X─┤  State\n"
     ]
    }
   ],
   "source": [
    "print(qml.draw(circuit, expansion_strategy=\"device\")(X))"
   ]
  },
  {
   "cell_type": "code",
   "execution_count": 55,
   "id": "57c15534",
   "metadata": {},
   "outputs": [
    {
     "name": "stdout",
     "output_type": "stream",
     "text": [
      "[0.+0.j 0.+0.j 0.+0.j 0.+0.j 0.+0.j 0.+0.j 0.+0.j 1.+0.j]\n"
     ]
    }
   ],
   "source": [
    "print(circuit(X))"
   ]
  },
  {
   "cell_type": "code",
   "execution_count": 57,
   "id": "f8d20a97",
   "metadata": {},
   "outputs": [],
   "source": [
    "from math import sqrt\n",
    "import pennylane as qml\n",
    "\n",
    "\n",
    "dev = qml.device('default.qubit', wires=4)\n",
    "\n",
    "@qml.qnode(dev)\n",
    "def circuit(feature_vector):\n",
    "    qml.BasisEmbedding(features=feature_vector, wires=range(4))\n",
    "    return qml.state()\n",
    "\n",
    "X = [0,1,0,1]"
   ]
  },
  {
   "cell_type": "code",
   "execution_count": 58,
   "id": "be29dc76",
   "metadata": {
    "scrolled": true
   },
   "outputs": [
    {
     "name": "stdout",
     "output_type": "stream",
     "text": [
      "1: ──X─┤  State\n",
      "3: ──X─┤  State\n"
     ]
    }
   ],
   "source": [
    "print(qml.draw(circuit, expansion_strategy=\"device\")(X))"
   ]
  },
  {
   "cell_type": "markdown",
   "id": "0422aa54",
   "metadata": {},
   "source": [
    "----------------------------------------------------------------------------------------------------------------"
   ]
  },
  {
   "cell_type": "markdown",
   "id": "5280740b",
   "metadata": {},
   "source": [
    "### Amplitude Embedding"
   ]
  },
  {
   "cell_type": "code",
   "execution_count": 43,
   "id": "d003b676",
   "metadata": {},
   "outputs": [
    {
     "data": {
      "text/plain": [
       "tensor(0., requires_grad=True)"
      ]
     },
     "execution_count": 43,
     "metadata": {},
     "output_type": "execute_result"
    }
   ],
   "source": [
    "import pennylane as qml\n",
    "\n",
    "dev = qml.device('default.qubit', wires=2)\n",
    "\n",
    "@qml.qnode(dev)\n",
    "def circuit(f=None):\n",
    "    qml.AmplitudeEmbedding(features=f, wires=range(2))\n",
    "    return qml.expval(qml.PauliZ(0))\n",
    "\n",
    "circuit(f=[1/2, 1/2, 1/2, 1/2])"
   ]
  },
  {
   "cell_type": "code",
   "execution_count": 44,
   "id": "57fda19d",
   "metadata": {},
   "outputs": [
    {
     "data": {
      "text/plain": [
       "tensor([0.5+0.j, 0.5+0.j, 0.5+0.j, 0.5+0.j], requires_grad=True)"
      ]
     },
     "execution_count": 44,
     "metadata": {},
     "output_type": "execute_result"
    }
   ],
   "source": [
    "dev.state"
   ]
  },
  {
   "cell_type": "markdown",
   "id": "f962b726",
   "metadata": {},
   "source": [
    "#### Normalization: \n",
    "The template will raise an error if the feature input is not normalized. One can set normalize=True to automatically normalize it"
   ]
  },
  {
   "cell_type": "code",
   "execution_count": 46,
   "id": "7bed39e1",
   "metadata": {},
   "outputs": [
    {
     "data": {
      "text/plain": [
       "tensor(-0.33333333, requires_grad=True)"
      ]
     },
     "execution_count": 46,
     "metadata": {},
     "output_type": "execute_result"
    }
   ],
   "source": [
    "import pennylane as qml\n",
    "\n",
    "dev = qml.device('default.qubit', wires=2)\n",
    "\n",
    "@qml.qnode(dev)\n",
    "def circuit(f=None):\n",
    "    qml.AmplitudeEmbedding(features=f, wires=range(2),normalize=True)\n",
    "    return qml.expval(qml.PauliZ(1))\n",
    "\n",
    "circuit(f=[10,20,30,40])"
   ]
  },
  {
   "cell_type": "code",
   "execution_count": 47,
   "id": "11e711ba",
   "metadata": {},
   "outputs": [
    {
     "data": {
      "text/plain": [
       "tensor([0.18257419+0.j, 0.36514837+0.j, 0.54772256+0.j, 0.73029674+0.j], requires_grad=True)"
      ]
     },
     "execution_count": 47,
     "metadata": {},
     "output_type": "execute_result"
    }
   ],
   "source": [
    "dev.state"
   ]
  },
  {
   "cell_type": "markdown",
   "id": "b25aad70",
   "metadata": {},
   "source": [
    "#### Padding:\n",
    "If the dimension of the feature vector is smaller than the number of amplitudes, one can automatically pad it with a constant for the missing dimensions using the pad_with option:\n",
    "\n",
    "For example, if we have a feature vector f with 3 elements and want to use 2 qubits to represent the quantum state, you would need to pad the feature vector to have 4 elements, as 2^2 = 4. If you set pad_with=0, the feature vector would be automatically padded to [f[0], f[1], f[2], 0]"
   ]
  },
  {
   "cell_type": "code",
   "execution_count": 48,
   "id": "5d652b24",
   "metadata": {},
   "outputs": [
    {
     "data": {
      "text/plain": [
       "tensor(1., requires_grad=True)"
      ]
     },
     "execution_count": 48,
     "metadata": {},
     "output_type": "execute_result"
    }
   ],
   "source": [
    "from math import sqrt\n",
    "import pennylane as qml\n",
    "\n",
    "dev = qml.device('default.qubit', wires=2)\n",
    "\n",
    "@qml.qnode(dev)\n",
    "def circuit(f=None):\n",
    "    qml.AmplitudeEmbedding(features=f, wires=range(2), pad_with=0.)\n",
    "    return qml.expval(qml.PauliZ(0))\n",
    "\n",
    "circuit(f=[1/sqrt(2), 1/sqrt(2)])"
   ]
  },
  {
   "cell_type": "code",
   "execution_count": 49,
   "id": "170c9d24",
   "metadata": {},
   "outputs": [
    {
     "data": {
      "text/plain": [
       "tensor([0.70710678+0.j, 0.70710678+0.j, 0.        +0.j, 0.        +0.j], requires_grad=True)"
      ]
     },
     "execution_count": 49,
     "metadata": {},
     "output_type": "execute_result"
    }
   ],
   "source": [
    "dev.state"
   ]
  },
  {
   "cell_type": "markdown",
   "id": "5ada3a49",
   "metadata": {},
   "source": [
    "----------------------------------------------------------------------------------------------------------"
   ]
  },
  {
   "cell_type": "markdown",
   "id": "6c622887",
   "metadata": {},
   "source": [
    "### Angle Embedding"
   ]
  },
  {
   "cell_type": "markdown",
   "id": "4aa78de5",
   "metadata": {},
   "source": [
    "The angle embedding is performed by applying rotations on the x-axis or y-axis using quantum gates along with the values that have to be encoded. If we wanna apply angle embedding on a dataset the number of rotations will be the same as the number of features in the dataset. the n-dimensional sample would take n-number of qubits to generate the set of quantum states."
   ]
  },
  {
   "cell_type": "code",
   "execution_count": 51,
   "id": "114a3c5a",
   "metadata": {},
   "outputs": [],
   "source": [
    "from math import sqrt\n",
    "import pennylane as qml\n",
    "dev = qml.device('default.qubit', wires=3)\n",
    "\n",
    "@qml.qnode(dev)\n",
    "def circuit(feature_vector):\n",
    "    qml.AngleEmbedding(features=feature_vector, wires=range(3), rotation='Z')\n",
    "    qml.Hadamard(0)\n",
    "    qml.Hadamard(1)\n",
    "    qml.Hadamard(2)\n",
    "    return qml.probs(wires=range(3))\n",
    "\n",
    "X = [1/2,2,3/sqrt(2)]"
   ]
  },
  {
   "cell_type": "code",
   "execution_count": 52,
   "id": "fcc134f0",
   "metadata": {},
   "outputs": [
    {
     "name": "stdout",
     "output_type": "stream",
     "text": [
      "0: ──RZ(0.50)──H─┤ ╭Probs\n",
      "1: ──RZ(2.00)──H─┤ ├Probs\n",
      "2: ──RZ(2.12)──H─┤ ╰Probs\n"
     ]
    }
   ],
   "source": [
    "print(qml.draw(circuit, expansion_strategy=\"device\")(X))"
   ]
  },
  {
   "cell_type": "code",
   "execution_count": 59,
   "id": "cd74938e",
   "metadata": {},
   "outputs": [],
   "source": [
    "from math import sqrt\n",
    "import pennylane as qml\n",
    "dev = qml.device('default.qubit', wires=6)\n",
    "\n",
    "@qml.qnode(dev)\n",
    "def circuit(feature_vector):\n",
    "    qml.AngleEmbedding(features=feature_vector, wires=range(6), rotation='X')\n",
    "    qml.Hadamard(0)\n",
    "    qml.Hadamard(4)\n",
    "    qml.Hadamard(5)\n",
    "    qml.RX(0.5, wires=2)\n",
    "    qml.RZ(0.7, wires=0)\n",
    "    \n",
    "\n",
    "    \n",
    "    return qml.probs(wires=range(6))\n",
    "\n",
    "X = [1/2,2,3/sqrt(2),1]\n"
   ]
  },
  {
   "cell_type": "code",
   "execution_count": 60,
   "id": "c898ebef",
   "metadata": {},
   "outputs": [
    {
     "name": "stdout",
     "output_type": "stream",
     "text": [
      "0: ──RX(0.50)──H─────────RZ(0.70)─┤ ╭Probs\n",
      "1: ──RX(2.00)─────────────────────┤ ├Probs\n",
      "2: ──RX(2.12)──RX(0.50)───────────┤ ├Probs\n",
      "3: ──RX(1.00)─────────────────────┤ ├Probs\n",
      "4: ──H────────────────────────────┤ ├Probs\n",
      "5: ──H────────────────────────────┤ ╰Probs\n"
     ]
    }
   ],
   "source": [
    "print(qml.draw(circuit, expansion_strategy=\"device\")(X))\n"
   ]
  },
  {
   "cell_type": "code",
   "execution_count": null,
   "id": "1d1ba381",
   "metadata": {},
   "outputs": [],
   "source": []
  }
 ],
 "metadata": {
  "kernelspec": {
   "display_name": "tensorflow-m1",
   "language": "python",
   "name": "tensorflow-m1"
  },
  "language_info": {
   "codemirror_mode": {
    "name": "ipython",
    "version": 3
   },
   "file_extension": ".py",
   "mimetype": "text/x-python",
   "name": "python",
   "nbconvert_exporter": "python",
   "pygments_lexer": "ipython3",
   "version": "3.9.0"
  }
 },
 "nbformat": 4,
 "nbformat_minor": 5
}
