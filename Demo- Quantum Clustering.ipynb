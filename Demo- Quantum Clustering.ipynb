{
 "cells": [
  {
   "cell_type": "code",
   "execution_count": null,
   "id": "06499410",
   "metadata": {},
   "outputs": [],
   "source": [
    "import cirq\n",
    "from swap_test import SwapTest\n",
    "import pandas as pd\n",
    "import math\n",
    "import numpy as np\n",
    "import matplotlib\n",
    "import matplotlib.pyplot as plt"
   ]
  },
  {
   "cell_type": "code",
   "execution_count": null,
   "id": "7510446c",
   "metadata": {},
   "outputs": [],
   "source": [
    "class QuantumKMeans:\n",
    "    def __init__(self,data_csv,num_clusters,features,copies=1000,iters=100):\n",
    "        self.data_csv = data_csv\n",
    "        self.num_clusters = num_clusters\n",
    "        self.features = features\n",
    "        self.copies = copies\n",
    "        self.iters = iters"
   ]
  },
  {
   "cell_type": "code",
   "execution_count": null,
   "id": "bd7753da",
   "metadata": {},
   "outputs": [],
   "source": [
    "def data_preprocess(self):\n",
    "    df = pd.read_csv(self.data_csv)\n",
    "    print(df.columns)\n",
    "    df['theta'] = df.apply(lambda x:math.atan(x[self.features[1]]/x[self.features[0]]), axis=1)\n",
    "    self.X = df.values[:,:2]\n",
    "    self.row_norms = np.sqrt((self.X**2).sum(axis=1))\n",
    "    self.X = self.X/self.row_norms[:, np.newaxis]\n",
    "    self.X_q_theta = df.values[:,2]\n",
    "    self.num_data points = self.X.shape[0]"
   ]
  },
  {
   "cell_type": "code",
   "execution_count": null,
   "id": "87d86dd1",
   "metadata": {},
   "outputs": [],
   "source": [
    "def distance(self,x,y):\n",
    "    st = SwapTest(prepare_input_states=True, input_state_dim=2, measure=True,copies=self.copies)\n",
    "    st.build_circuit(input_1_transforms=[cirq.ry(x)],input_2_transforms=[cirq.ry(y)])\n",
    "    prob_0, _ = st.simulate()\n",
    "    _distance_ = 1 - prob_0\n",
    "    del st\n",
    "    return _distance_"
   ]
  },
  {
   "cell_type": "code",
   "execution_count": null,
   "id": "99d393fa",
   "metadata": {},
   "outputs": [],
   "source": [
    "def init_clusters(self):\n",
    "    self.cluster_points=np.random.randint(self.num_data points,size=self.num_clusters)\n",
    "    self.cluster_data points = self.X[self.cluster_points,:]\n",
    "    self.cluster_theta = self.X_q_theta[self.cluster_points]\n",
    "    self.clusters = np.zeros(len(self.X_q_theta))"
   ]
  },
  {
   "cell_type": "code",
   "execution_count": null,
   "id": "7bae5de2",
   "metadata": {},
   "outputs": [],
   "source": [
    "def assign_clusters(self):\n",
    "    self.distance_matrix = np.zeros((self.num_data points,self.num_clusters))\n",
    "    for i,x in enumerate(list(self.X_q_theta)):\n",
    "        for j,y in enumerate(list(self.cluster_theta)):\n",
    "            self.distance_matrix[i, j] = self.distance(x,y)\n",
    "    self.clusters = np.argmin(self.distance_matrix,axis=1)"
   ]
  },
  {
   "cell_type": "code",
   "execution_count": null,
   "id": "711dd703",
   "metadata": {},
   "outputs": [],
   "source": [
    "def update_clusters(self):\n",
    "    updated_cluster_data points = []\n",
    "    updated_cluster_theta = []\n",
    "    for k in range(self.num_clusters):\n",
    "        centroid = np.mean(self.X[self.clusters == k],axis=0)\n",
    "        centroid_theta = math.atan(centroid[1]/centroid[0])\n",
    "        updated_cluster_data points.append(centroid)\n",
    "        updated_cluster_theta.append(centroid_theta)\n",
    "    self.cluster_data points= np.array(updated_cluster_data points)\n",
    "    self.cluster_theta = np.array(updated_cluster_theta)"
   ]
  },
  {
   "cell_type": "code",
   "execution_count": null,
   "id": "03668142",
   "metadata": {},
   "outputs": [],
   "source": [
    "def plot(self):\n",
    "    fig = plt.figure(figsize=(8, 8))\n",
    "    colors = ['red', 'green', 'blue', 'purple','yellow','black']\n",
    "    plt.scatter(self.X[:,0],self.X[:,1],c=self.clusters,cmap=matplotlib.colors.ListedColormap(colors[:self.num_clusters]))\n",
    "    plt.savefig('Clusters.png')"
   ]
  },
  {
   "cell_type": "code",
   "execution_count": null,
   "id": "f389fac6",
   "metadata": {},
   "outputs": [],
   "source": [
    "def run(self):\n",
    "    self.data_preprocess()\n",
    "    self.init_clusters()\n",
    "    for i in range(self.iters):\n",
    "        self.assign_clusters()\n",
    "        self.update_clusters()\n",
    "    self.plot()"
   ]
  },
  {
   "cell_type": "code",
   "execution_count": null,
   "id": "e98038ad",
   "metadata": {},
   "outputs": [],
   "source": [
    "if __name__ == '__main__':\n",
    "    data_csv = '/home/santanu/Downloads/DataForQComparison.csv'\n",
    "    num_clusters = 4\n",
    "    qkmeans = QuantumKMeans(data_csv=data_csv, num_clusters=num_clusters,iters=10,features=['Annual Income_k$',0'])\n",
    "    qkmeans.run()"
   ]
  }
 ],
 "metadata": {
  "kernelspec": {
   "display_name": "Python 3 (ipykernel)",
   "language": "python",
   "name": "python3"
  },
  "language_info": {
   "codemirror_mode": {
    "name": "ipython",
    "version": 3
   },
   "file_extension": ".py",
   "mimetype": "text/x-python",
   "name": "python",
   "nbconvert_exporter": "python",
   "pygments_lexer": "ipython3",
   "version": "3.9.16"
  }
 },
 "nbformat": 4,
 "nbformat_minor": 5
}
